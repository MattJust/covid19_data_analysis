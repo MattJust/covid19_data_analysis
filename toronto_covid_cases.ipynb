{
 "cells": [
  {
   "cell_type": "markdown",
   "metadata": {},
   "source": [
    "Here I will be using some public data of Covid-19 patients in Toronto and doing some exploratory data analysis before comparing key variables gender and age.\n",
    "\n",
    "The full data set is available at:\n",
    "\n",
    "https://open.toronto.ca/dataset/covid-19-cases-in-toronto/\n",
    "\n",
    "This data is part of Toronto's Open Data Master Plan, designed in collaboration with my ex-employer, Montreal open data advocacy non-profit OpenNorth:\n",
    "\n",
    "https://www.opennorth.ca/"
   ]
  },
  {
   "cell_type": "code",
   "execution_count": 6,
   "metadata": {},
   "outputs": [],
   "source": [
    "import pandas as pd\n",
    "import matplotlib.pyplot as plt\n",
    "import seaborn as sns"
   ]
  },
  {
   "cell_type": "code",
   "execution_count": 7,
   "metadata": {},
   "outputs": [
    {
     "name": "stdout",
     "output_type": "stream",
     "text": [
      "COVID19_cases.csv          toronto_covid_cases.ipynb\r\n"
     ]
    }
   ],
   "source": [
    "ls"
   ]
  },
  {
   "cell_type": "code",
   "execution_count": 8,
   "metadata": {},
   "outputs": [],
   "source": [
    "df = pd.read_csv('COVID19_cases.csv')"
   ]
  },
  {
   "cell_type": "markdown",
   "metadata": {},
   "source": [
    "Checking the Head shows that we're mostly dealing with object (aka categorical) data here."
   ]
  },
  {
   "cell_type": "code",
   "execution_count": 9,
   "metadata": {},
   "outputs": [
    {
     "data": {
      "text/html": [
       "<div>\n",
       "<style scoped>\n",
       "    .dataframe tbody tr th:only-of-type {\n",
       "        vertical-align: middle;\n",
       "    }\n",
       "\n",
       "    .dataframe tbody tr th {\n",
       "        vertical-align: top;\n",
       "    }\n",
       "\n",
       "    .dataframe thead th {\n",
       "        text-align: right;\n",
       "    }\n",
       "</style>\n",
       "<table border=\"1\" class=\"dataframe\">\n",
       "  <thead>\n",
       "    <tr style=\"text-align: right;\">\n",
       "      <th></th>\n",
       "      <th>_id</th>\n",
       "      <th>Assigned_ID</th>\n",
       "      <th>Outbreak Associated</th>\n",
       "      <th>Age Group</th>\n",
       "      <th>Neighbourhood Name</th>\n",
       "      <th>FSA</th>\n",
       "      <th>Source of Infection</th>\n",
       "      <th>Classification</th>\n",
       "      <th>Episode Date</th>\n",
       "      <th>Reported Date</th>\n",
       "      <th>Client Gender</th>\n",
       "      <th>Outcome</th>\n",
       "      <th>Currently Hospitalized</th>\n",
       "      <th>Currently in ICU</th>\n",
       "      <th>Currently Intubated</th>\n",
       "      <th>Ever Hospitalized</th>\n",
       "      <th>Ever in ICU</th>\n",
       "      <th>Ever Intubated</th>\n",
       "    </tr>\n",
       "  </thead>\n",
       "  <tbody>\n",
       "    <tr>\n",
       "      <th>0</th>\n",
       "      <td>30771</td>\n",
       "      <td>1</td>\n",
       "      <td>Sporadic</td>\n",
       "      <td>50 to 59 Years</td>\n",
       "      <td>Willowdale East</td>\n",
       "      <td>M2N</td>\n",
       "      <td>Travel</td>\n",
       "      <td>CONFIRMED</td>\n",
       "      <td>2020-01-22</td>\n",
       "      <td>2020-01-23</td>\n",
       "      <td>FEMALE</td>\n",
       "      <td>RESOLVED</td>\n",
       "      <td>No</td>\n",
       "      <td>No</td>\n",
       "      <td>No</td>\n",
       "      <td>No</td>\n",
       "      <td>No</td>\n",
       "      <td>No</td>\n",
       "    </tr>\n",
       "    <tr>\n",
       "      <th>1</th>\n",
       "      <td>30772</td>\n",
       "      <td>2</td>\n",
       "      <td>Sporadic</td>\n",
       "      <td>50 to 59 Years</td>\n",
       "      <td>Willowdale East</td>\n",
       "      <td>M2N</td>\n",
       "      <td>Travel</td>\n",
       "      <td>CONFIRMED</td>\n",
       "      <td>2020-01-21</td>\n",
       "      <td>2020-01-23</td>\n",
       "      <td>MALE</td>\n",
       "      <td>RESOLVED</td>\n",
       "      <td>No</td>\n",
       "      <td>No</td>\n",
       "      <td>No</td>\n",
       "      <td>Yes</td>\n",
       "      <td>No</td>\n",
       "      <td>No</td>\n",
       "    </tr>\n",
       "    <tr>\n",
       "      <th>2</th>\n",
       "      <td>30773</td>\n",
       "      <td>3</td>\n",
       "      <td>Sporadic</td>\n",
       "      <td>20 to 29 Years</td>\n",
       "      <td>Parkwoods-Donalda</td>\n",
       "      <td>M3A</td>\n",
       "      <td>Travel</td>\n",
       "      <td>CONFIRMED</td>\n",
       "      <td>2020-02-05</td>\n",
       "      <td>2020-02-21</td>\n",
       "      <td>FEMALE</td>\n",
       "      <td>RESOLVED</td>\n",
       "      <td>No</td>\n",
       "      <td>No</td>\n",
       "      <td>No</td>\n",
       "      <td>No</td>\n",
       "      <td>No</td>\n",
       "      <td>No</td>\n",
       "    </tr>\n",
       "    <tr>\n",
       "      <th>3</th>\n",
       "      <td>30774</td>\n",
       "      <td>4</td>\n",
       "      <td>Sporadic</td>\n",
       "      <td>60 to 69 Years</td>\n",
       "      <td>Church-Yonge Corridor</td>\n",
       "      <td>M4W</td>\n",
       "      <td>Travel</td>\n",
       "      <td>CONFIRMED</td>\n",
       "      <td>2020-02-16</td>\n",
       "      <td>2020-02-25</td>\n",
       "      <td>FEMALE</td>\n",
       "      <td>RESOLVED</td>\n",
       "      <td>No</td>\n",
       "      <td>No</td>\n",
       "      <td>No</td>\n",
       "      <td>No</td>\n",
       "      <td>No</td>\n",
       "      <td>No</td>\n",
       "    </tr>\n",
       "    <tr>\n",
       "      <th>4</th>\n",
       "      <td>30775</td>\n",
       "      <td>5</td>\n",
       "      <td>Sporadic</td>\n",
       "      <td>60 to 69 Years</td>\n",
       "      <td>Church-Yonge Corridor</td>\n",
       "      <td>M4W</td>\n",
       "      <td>Travel</td>\n",
       "      <td>CONFIRMED</td>\n",
       "      <td>2020-02-20</td>\n",
       "      <td>2020-02-26</td>\n",
       "      <td>MALE</td>\n",
       "      <td>RESOLVED</td>\n",
       "      <td>No</td>\n",
       "      <td>No</td>\n",
       "      <td>No</td>\n",
       "      <td>No</td>\n",
       "      <td>No</td>\n",
       "      <td>No</td>\n",
       "    </tr>\n",
       "  </tbody>\n",
       "</table>\n",
       "</div>"
      ],
      "text/plain": [
       "     _id  Assigned_ID Outbreak Associated       Age Group  \\\n",
       "0  30771            1            Sporadic  50 to 59 Years   \n",
       "1  30772            2            Sporadic  50 to 59 Years   \n",
       "2  30773            3            Sporadic  20 to 29 Years   \n",
       "3  30774            4            Sporadic  60 to 69 Years   \n",
       "4  30775            5            Sporadic  60 to 69 Years   \n",
       "\n",
       "      Neighbourhood Name  FSA Source of Infection Classification Episode Date  \\\n",
       "0        Willowdale East  M2N              Travel      CONFIRMED   2020-01-22   \n",
       "1        Willowdale East  M2N              Travel      CONFIRMED   2020-01-21   \n",
       "2      Parkwoods-Donalda  M3A              Travel      CONFIRMED   2020-02-05   \n",
       "3  Church-Yonge Corridor  M4W              Travel      CONFIRMED   2020-02-16   \n",
       "4  Church-Yonge Corridor  M4W              Travel      CONFIRMED   2020-02-20   \n",
       "\n",
       "  Reported Date Client Gender   Outcome Currently Hospitalized  \\\n",
       "0    2020-01-23        FEMALE  RESOLVED                     No   \n",
       "1    2020-01-23          MALE  RESOLVED                     No   \n",
       "2    2020-02-21        FEMALE  RESOLVED                     No   \n",
       "3    2020-02-25        FEMALE  RESOLVED                     No   \n",
       "4    2020-02-26          MALE  RESOLVED                     No   \n",
       "\n",
       "  Currently in ICU Currently Intubated Ever Hospitalized Ever in ICU  \\\n",
       "0               No                  No                No          No   \n",
       "1               No                  No               Yes          No   \n",
       "2               No                  No                No          No   \n",
       "3               No                  No                No          No   \n",
       "4               No                  No                No          No   \n",
       "\n",
       "  Ever Intubated  \n",
       "0             No  \n",
       "1             No  \n",
       "2             No  \n",
       "3             No  \n",
       "4             No  "
      ]
     },
     "execution_count": 9,
     "metadata": {},
     "output_type": "execute_result"
    }
   ],
   "source": [
    "df.head()"
   ]
  },
  {
   "cell_type": "code",
   "execution_count": 10,
   "metadata": {},
   "outputs": [
    {
     "name": "stdout",
     "output_type": "stream",
     "text": [
      "<class 'pandas.core.frame.DataFrame'>\n",
      "RangeIndex: 15540 entries, 0 to 15539\n",
      "Data columns (total 18 columns):\n",
      " #   Column                  Non-Null Count  Dtype \n",
      "---  ------                  --------------  ----- \n",
      " 0   _id                     15540 non-null  int64 \n",
      " 1   Assigned_ID             15540 non-null  int64 \n",
      " 2   Outbreak Associated     15540 non-null  object\n",
      " 3   Age Group               15513 non-null  object\n",
      " 4   Neighbourhood Name      14934 non-null  object\n",
      " 5   FSA                     14981 non-null  object\n",
      " 6   Source of Infection     15540 non-null  object\n",
      " 7   Classification          15540 non-null  object\n",
      " 8   Episode Date            15540 non-null  object\n",
      " 9   Reported Date           15540 non-null  object\n",
      " 10  Client Gender           15540 non-null  object\n",
      " 11  Outcome                 15540 non-null  object\n",
      " 12  Currently Hospitalized  15540 non-null  object\n",
      " 13  Currently in ICU        15540 non-null  object\n",
      " 14  Currently Intubated     15540 non-null  object\n",
      " 15  Ever Hospitalized       15540 non-null  object\n",
      " 16  Ever in ICU             15540 non-null  object\n",
      " 17  Ever Intubated          15540 non-null  object\n",
      "dtypes: int64(2), object(16)\n",
      "memory usage: 2.1+ MB\n"
     ]
    }
   ],
   "source": [
    "df.info()"
   ]
  },
  {
   "cell_type": "markdown",
   "metadata": {},
   "source": [
    "Let's check for missing data"
   ]
  },
  {
   "cell_type": "code",
   "execution_count": 11,
   "metadata": {},
   "outputs": [
    {
     "data": {
      "text/plain": [
       "Sporadic               9733\n",
       "Outbreak Associated    5807\n",
       "Name: Outbreak Associated, dtype: int64"
      ]
     },
     "execution_count": 11,
     "metadata": {},
     "output_type": "execute_result"
    }
   ],
   "source": [
    "df['Outbreak Associated'].value_counts(dropna=True)"
   ]
  },
  {
   "cell_type": "markdown",
   "metadata": {},
   "source": [
    "I noticed that there is a gap between the 15540 records and the 14934 values in Neighbourhood Name. That sounds like null (NaN) values."
   ]
  },
  {
   "cell_type": "code",
   "execution_count": 12,
   "metadata": {},
   "outputs": [
    {
     "data": {
      "text/plain": [
       "NaN                                  606\n",
       "Glenfield-Jane Heights               513\n",
       "Mount Olive-Silverstone-Jamestown    503\n",
       "West Humber-Clairville               501\n",
       "Downsview-Roding-CFB                 461\n",
       "York University Heights              428\n",
       "Islington-City Centre West           356\n",
       "Weston                               328\n",
       "Rouge                                312\n",
       "Black Creek                          308\n",
       "Name: Neighbourhood Name, dtype: int64"
      ]
     },
     "execution_count": 12,
     "metadata": {},
     "output_type": "execute_result"
    }
   ],
   "source": [
    "df['Neighbourhood Name'].value_counts(dropna=False).head(10)"
   ]
  },
  {
   "cell_type": "markdown",
   "metadata": {},
   "source": [
    "Yes indeed - a full 606 of them! That column, the Age Group and FSA columns all appear to have null values, which may not be a deal-breaker but it is worth bearing in mind.\n",
    "\n",
    "Let's see our Client Genders:"
   ]
  },
  {
   "cell_type": "code",
   "execution_count": 13,
   "metadata": {},
   "outputs": [
    {
     "data": {
      "text/plain": [
       "<matplotlib.axes._subplots.AxesSubplot at 0x10c810c90>"
      ]
     },
     "execution_count": 13,
     "metadata": {},
     "output_type": "execute_result"
    },
    {
     "data": {
      "image/png": "[encoded data removed]",
      "text/plain": [
       "<Figure size 432x288 with 1 Axes>"
      ]
     },
     "metadata": {
      "needs_background": "light"
     },
     "output_type": "display_data"
    }
   ],
   "source": [
    "df['Client Gender'].value_counts().plot(kind='barh')"
   ]
  },
  {
   "cell_type": "markdown",
   "metadata": {},
   "source": [
    "...and where people caught it:"
   ]
  },
  {
   "cell_type": "code",
   "execution_count": 14,
   "metadata": {},
   "outputs": [
    {
     "data": {
      "text/plain": [
       "<matplotlib.axes._subplots.AxesSubplot at 0x1a21333090>"
      ]
     },
     "execution_count": 14,
     "metadata": {},
     "output_type": "execute_result"
    },
    {
     "data": {
      "image/png": "[encoded data removed]",
      "text/plain": [
       "<Figure size 432x288 with 1 Axes>"
      ]
     },
     "metadata": {
      "needs_background": "light"
     },
     "output_type": "display_data"
    }
   ],
   "source": [
    "df['Source of Infection'].value_counts().plot(kind='barh')"
   ]
  },
  {
   "cell_type": "markdown",
   "metadata": {},
   "source": [
    "...and whether it was associated with a general outbreak or a specific event:"
   ]
  },
  {
   "cell_type": "code",
   "execution_count": 15,
   "metadata": {},
   "outputs": [
    {
     "data": {
      "text/plain": [
       "<matplotlib.axes._subplots.AxesSubplot at 0x1a21384550>"
      ]
     },
     "execution_count": 15,
     "metadata": {},
     "output_type": "execute_result"
    },
    {
     "data": {
      "image/png": "[encoded data removed]",
      "text/plain": [
       "<Figure size 432x288 with 1 Axes>"
      ]
     },
     "metadata": {
      "needs_background": "light"
     },
     "output_type": "display_data"
    }
   ],
   "source": [
    "df['Outbreak Associated'].value_counts().plot(kind='barh')"
   ]
  },
  {
   "cell_type": "markdown",
   "metadata": {},
   "source": [
    "What is/was the outcome?"
   ]
  },
  {
   "cell_type": "code",
   "execution_count": 16,
   "metadata": {},
   "outputs": [
    {
     "data": {
      "text/plain": [
       "<matplotlib.axes._subplots.AxesSubplot at 0x1a2149add0>"
      ]
     },
     "execution_count": 16,
     "metadata": {},
     "output_type": "execute_result"
    },
    {
     "data": {
      "image/png": "[encoded data removed]",
      "text/plain": [
       "<Figure size 432x288 with 1 Axes>"
      ]
     },
     "metadata": {
      "needs_background": "light"
     },
     "output_type": "display_data"
    }
   ],
   "source": [
    "df['Outcome'].value_counts().plot(kind='barh')"
   ]
  },
  {
   "cell_type": "markdown",
   "metadata": {},
   "source": [
    "Let's try it by gender and see if that tells us anything. First by female, then male:"
   ]
  },
  {
   "cell_type": "code",
   "execution_count": 17,
   "metadata": {},
   "outputs": [
    {
     "data": {
      "text/plain": [
       "<matplotlib.axes._subplots.AxesSubplot at 0x1a216a3e50>"
      ]
     },
     "execution_count": 17,
     "metadata": {},
     "output_type": "execute_result"
    },
    {
     "data": {
      "image/png": "[encoded data removed]",
      "text/plain": [
       "<Figure size 432x288 with 1 Axes>"
      ]
     },
     "metadata": {
      "needs_background": "light"
     },
     "output_type": "display_data"
    }
   ],
   "source": [
    "df[df['Client Gender'] == 'FEMALE']['Outcome'].value_counts().plot(kind='barh')"
   ]
  },
  {
   "cell_type": "code",
   "execution_count": 18,
   "metadata": {},
   "outputs": [
    {
     "data": {
      "text/plain": [
       "<matplotlib.axes._subplots.AxesSubplot at 0x1a21931a90>"
      ]
     },
     "execution_count": 18,
     "metadata": {},
     "output_type": "execute_result"
    },
    {
     "data": {
      "image/png": "[encoded data removed]",
      "text/plain": [
       "<Figure size 432x288 with 1 Axes>"
      ]
     },
     "metadata": {
      "needs_background": "light"
     },
     "output_type": "display_data"
    }
   ],
   "source": [
    "df[df['Client Gender'] == 'MALE']['Outcome'].value_counts().plot(kind='barh')"
   ]
  },
  {
   "cell_type": "code",
   "execution_count": 19,
   "metadata": {},
   "outputs": [
    {
     "data": {
      "text/plain": [
       "<matplotlib.axes._subplots.AxesSubplot at 0x1a218e3b50>"
      ]
     },
     "execution_count": 19,
     "metadata": {},
     "output_type": "execute_result"
    },
    {
     "data": {
      "image/png": "[encoded data removed]",
      "text/plain": [
       "<Figure size 432x288 with 1 Axes>"
      ]
     },
     "metadata": {
      "needs_background": "light"
     },
     "output_type": "display_data"
    }
   ],
   "source": [
    "df[df['Client Gender'] == 'UNKNOWN']['Outcome'].value_counts().plot(kind='barh')"
   ]
  },
  {
   "cell_type": "code",
   "execution_count": 25,
   "metadata": {},
   "outputs": [
    {
     "data": {
      "text/plain": [
       "<matplotlib.axes._subplots.AxesSubplot at 0xb1fe99490>"
      ]
     },
     "execution_count": 25,
     "metadata": {},
     "output_type": "execute_result"
    },
    {
     "data": {
      "image/png": "[encoded data removed]",
      "text/plain": [
       "<Figure size 432x288 with 1 Axes>"
      ]
     },
     "metadata": {
      "needs_background": "light"
     },
     "output_type": "display_data"
    }
   ],
   "source": [
    "df[df['Client Gender'] == 'TRANSGENDER']['Outcome'].value_counts().plot(kind='barh')"
   ]
  },
  {
   "cell_type": "markdown",
   "metadata": {},
   "source": [
    "All in all, Male and Female are pretty comparable. Unknown leans more toward fatal outcomes, which could be worth noting, but this is a small data set, as is Transgender."
   ]
  },
  {
   "cell_type": "markdown",
   "metadata": {},
   "source": [
    "Let's check distribution across age groups."
   ]
  },
  {
   "cell_type": "code",
   "execution_count": 20,
   "metadata": {},
   "outputs": [
    {
     "data": {
      "text/plain": [
       "<matplotlib.axes._subplots.AxesSubplot at 0x1a2197b450>"
      ]
     },
     "execution_count": 20,
     "metadata": {},
     "output_type": "execute_result"
    },
    {
     "data": {
      "image/png": "[encoded data removed]",
      "text/plain": [
       "<Figure size 432x288 with 1 Axes>"
      ]
     },
     "metadata": {
      "needs_background": "light"
     },
     "output_type": "display_data"
    }
   ],
   "source": [
    "df['Age Group'].value_counts().sort_index(ascending=False).plot(kind='barh', sort_columns=False)"
   ]
  },
  {
   "cell_type": "markdown",
   "metadata": {},
   "source": [
    "Let's try some contingency table analysis to compare various variables. First we will look at Client Gender vs Age Group."
   ]
  },
  {
   "cell_type": "code",
   "execution_count": 21,
   "metadata": {},
   "outputs": [
    {
     "data": {
      "text/html": [
       "<div>\n",
       "<style scoped>\n",
       "    .dataframe tbody tr th:only-of-type {\n",
       "        vertical-align: middle;\n",
       "    }\n",
       "\n",
       "    .dataframe tbody tr th {\n",
       "        vertical-align: top;\n",
       "    }\n",
       "\n",
       "    .dataframe thead th {\n",
       "        text-align: right;\n",
       "    }\n",
       "</style>\n",
       "<table border=\"1\" class=\"dataframe\">\n",
       "  <thead>\n",
       "    <tr style=\"text-align: right;\">\n",
       "      <th>Client Gender</th>\n",
       "      <th>FEMALE</th>\n",
       "      <th>MALE</th>\n",
       "      <th>OTHER</th>\n",
       "      <th>TRANSGENDER</th>\n",
       "      <th>UNKNOWN</th>\n",
       "    </tr>\n",
       "    <tr>\n",
       "      <th>Age Group</th>\n",
       "      <th></th>\n",
       "      <th></th>\n",
       "      <th></th>\n",
       "      <th></th>\n",
       "      <th></th>\n",
       "    </tr>\n",
       "  </thead>\n",
       "  <tbody>\n",
       "    <tr>\n",
       "      <th>19 and younger</th>\n",
       "      <td>45.92</td>\n",
       "      <td>50.90</td>\n",
       "      <td>0.00</td>\n",
       "      <td>0.00</td>\n",
       "      <td>3.19</td>\n",
       "    </tr>\n",
       "    <tr>\n",
       "      <th>20 to 29 Years</th>\n",
       "      <td>46.85</td>\n",
       "      <td>52.36</td>\n",
       "      <td>0.00</td>\n",
       "      <td>0.04</td>\n",
       "      <td>0.75</td>\n",
       "    </tr>\n",
       "    <tr>\n",
       "      <th>30 to 39 Years</th>\n",
       "      <td>48.96</td>\n",
       "      <td>49.95</td>\n",
       "      <td>0.05</td>\n",
       "      <td>0.14</td>\n",
       "      <td>0.90</td>\n",
       "    </tr>\n",
       "    <tr>\n",
       "      <th>40 to 49 Years</th>\n",
       "      <td>53.57</td>\n",
       "      <td>45.05</td>\n",
       "      <td>0.09</td>\n",
       "      <td>0.05</td>\n",
       "      <td>1.24</td>\n",
       "    </tr>\n",
       "    <tr>\n",
       "      <th>50 to 59 Years</th>\n",
       "      <td>54.58</td>\n",
       "      <td>44.81</td>\n",
       "      <td>0.08</td>\n",
       "      <td>0.00</td>\n",
       "      <td>0.53</td>\n",
       "    </tr>\n",
       "    <tr>\n",
       "      <th>60 to 69 Years</th>\n",
       "      <td>48.33</td>\n",
       "      <td>50.60</td>\n",
       "      <td>0.00</td>\n",
       "      <td>0.00</td>\n",
       "      <td>1.08</td>\n",
       "    </tr>\n",
       "    <tr>\n",
       "      <th>70 to 79 Years</th>\n",
       "      <td>48.69</td>\n",
       "      <td>49.63</td>\n",
       "      <td>0.09</td>\n",
       "      <td>0.00</td>\n",
       "      <td>1.59</td>\n",
       "    </tr>\n",
       "    <tr>\n",
       "      <th>80 to 89 Years</th>\n",
       "      <td>62.01</td>\n",
       "      <td>34.69</td>\n",
       "      <td>0.00</td>\n",
       "      <td>0.00</td>\n",
       "      <td>3.30</td>\n",
       "    </tr>\n",
       "    <tr>\n",
       "      <th>90 and older</th>\n",
       "      <td>72.32</td>\n",
       "      <td>23.72</td>\n",
       "      <td>0.00</td>\n",
       "      <td>0.00</td>\n",
       "      <td>3.97</td>\n",
       "    </tr>\n",
       "  </tbody>\n",
       "</table>\n",
       "</div>"
      ],
      "text/plain": [
       "Client Gender   FEMALE   MALE  OTHER  TRANSGENDER  UNKNOWN\n",
       "Age Group                                                 \n",
       "19 and younger   45.92  50.90   0.00         0.00     3.19\n",
       "20 to 29 Years   46.85  52.36   0.00         0.04     0.75\n",
       "30 to 39 Years   48.96  49.95   0.05         0.14     0.90\n",
       "40 to 49 Years   53.57  45.05   0.09         0.05     1.24\n",
       "50 to 59 Years   54.58  44.81   0.08         0.00     0.53\n",
       "60 to 69 Years   48.33  50.60   0.00         0.00     1.08\n",
       "70 to 79 Years   48.69  49.63   0.09         0.00     1.59\n",
       "80 to 89 Years   62.01  34.69   0.00         0.00     3.30\n",
       "90 and older     72.32  23.72   0.00         0.00     3.97"
      ]
     },
     "execution_count": 21,
     "metadata": {},
     "output_type": "execute_result"
    }
   ],
   "source": [
    "pd.crosstab(df['Age Group'], df['Client Gender'], margins = False, normalize='index').round(4)*100"
   ]
  },
  {
   "cell_type": "markdown",
   "metadata": {},
   "source": [
    "There are more female patients over 80, but that correlates with the general population.\n",
    "\n",
    "Now let's see if the Source of Infection changes by different age groups:"
   ]
  },
  {
   "cell_type": "code",
   "execution_count": 22,
   "metadata": {},
   "outputs": [
    {
     "data": {
      "text/html": [
       "<div>\n",
       "<style scoped>\n",
       "    .dataframe tbody tr th:only-of-type {\n",
       "        vertical-align: middle;\n",
       "    }\n",
       "\n",
       "    .dataframe tbody tr th {\n",
       "        vertical-align: top;\n",
       "    }\n",
       "\n",
       "    .dataframe thead th {\n",
       "        text-align: right;\n",
       "    }\n",
       "</style>\n",
       "<table border=\"1\" class=\"dataframe\">\n",
       "  <thead>\n",
       "    <tr style=\"text-align: right;\">\n",
       "      <th>Source of Infection</th>\n",
       "      <th>Close contact</th>\n",
       "      <th>Community</th>\n",
       "      <th>Healthcare</th>\n",
       "      <th>Institutional</th>\n",
       "      <th>N/A - Outbreak associated</th>\n",
       "      <th>Pending</th>\n",
       "      <th>Travel</th>\n",
       "      <th>Unknown/Missing</th>\n",
       "    </tr>\n",
       "    <tr>\n",
       "      <th>Age Group</th>\n",
       "      <th></th>\n",
       "      <th></th>\n",
       "      <th></th>\n",
       "      <th></th>\n",
       "      <th></th>\n",
       "      <th></th>\n",
       "      <th></th>\n",
       "      <th></th>\n",
       "    </tr>\n",
       "  </thead>\n",
       "  <tbody>\n",
       "    <tr>\n",
       "      <th>19 and younger</th>\n",
       "      <td>74.90</td>\n",
       "      <td>8.17</td>\n",
       "      <td>2.89</td>\n",
       "      <td>0.60</td>\n",
       "      <td>9.56</td>\n",
       "      <td>0.70</td>\n",
       "      <td>1.89</td>\n",
       "      <td>1.29</td>\n",
       "    </tr>\n",
       "    <tr>\n",
       "      <th>20 to 29 Years</th>\n",
       "      <td>51.04</td>\n",
       "      <td>17.63</td>\n",
       "      <td>5.29</td>\n",
       "      <td>1.76</td>\n",
       "      <td>15.51</td>\n",
       "      <td>0.79</td>\n",
       "      <td>4.28</td>\n",
       "      <td>3.70</td>\n",
       "    </tr>\n",
       "    <tr>\n",
       "      <th>30 to 39 Years</th>\n",
       "      <td>38.58</td>\n",
       "      <td>17.87</td>\n",
       "      <td>8.57</td>\n",
       "      <td>2.35</td>\n",
       "      <td>23.78</td>\n",
       "      <td>0.81</td>\n",
       "      <td>5.01</td>\n",
       "      <td>3.02</td>\n",
       "    </tr>\n",
       "    <tr>\n",
       "      <th>40 to 49 Years</th>\n",
       "      <td>36.48</td>\n",
       "      <td>17.13</td>\n",
       "      <td>7.74</td>\n",
       "      <td>2.99</td>\n",
       "      <td>28.42</td>\n",
       "      <td>0.74</td>\n",
       "      <td>3.82</td>\n",
       "      <td>2.67</td>\n",
       "    </tr>\n",
       "    <tr>\n",
       "      <th>50 to 59 Years</th>\n",
       "      <td>34.30</td>\n",
       "      <td>17.80</td>\n",
       "      <td>7.17</td>\n",
       "      <td>2.81</td>\n",
       "      <td>30.35</td>\n",
       "      <td>0.69</td>\n",
       "      <td>4.03</td>\n",
       "      <td>2.85</td>\n",
       "    </tr>\n",
       "    <tr>\n",
       "      <th>60 to 69 Years</th>\n",
       "      <td>29.37</td>\n",
       "      <td>15.19</td>\n",
       "      <td>7.83</td>\n",
       "      <td>2.39</td>\n",
       "      <td>34.57</td>\n",
       "      <td>0.84</td>\n",
       "      <td>6.46</td>\n",
       "      <td>3.35</td>\n",
       "    </tr>\n",
       "    <tr>\n",
       "      <th>70 to 79 Years</th>\n",
       "      <td>18.38</td>\n",
       "      <td>11.85</td>\n",
       "      <td>6.72</td>\n",
       "      <td>1.31</td>\n",
       "      <td>54.38</td>\n",
       "      <td>0.37</td>\n",
       "      <td>4.85</td>\n",
       "      <td>2.15</td>\n",
       "    </tr>\n",
       "    <tr>\n",
       "      <th>80 to 89 Years</th>\n",
       "      <td>5.70</td>\n",
       "      <td>4.60</td>\n",
       "      <td>3.82</td>\n",
       "      <td>0.84</td>\n",
       "      <td>82.52</td>\n",
       "      <td>0.13</td>\n",
       "      <td>1.23</td>\n",
       "      <td>1.17</td>\n",
       "    </tr>\n",
       "    <tr>\n",
       "      <th>90 and older</th>\n",
       "      <td>2.71</td>\n",
       "      <td>1.17</td>\n",
       "      <td>0.54</td>\n",
       "      <td>1.44</td>\n",
       "      <td>92.88</td>\n",
       "      <td>0.00</td>\n",
       "      <td>0.27</td>\n",
       "      <td>0.99</td>\n",
       "    </tr>\n",
       "  </tbody>\n",
       "</table>\n",
       "</div>"
      ],
      "text/plain": [
       "Source of Infection  Close contact  Community  Healthcare  Institutional  \\\n",
       "Age Group                                                                  \n",
       "19 and younger               74.90       8.17        2.89           0.60   \n",
       "20 to 29 Years               51.04      17.63        5.29           1.76   \n",
       "30 to 39 Years               38.58      17.87        8.57           2.35   \n",
       "40 to 49 Years               36.48      17.13        7.74           2.99   \n",
       "50 to 59 Years               34.30      17.80        7.17           2.81   \n",
       "60 to 69 Years               29.37      15.19        7.83           2.39   \n",
       "70 to 79 Years               18.38      11.85        6.72           1.31   \n",
       "80 to 89 Years                5.70       4.60        3.82           0.84   \n",
       "90 and older                  2.71       1.17        0.54           1.44   \n",
       "\n",
       "Source of Infection  N/A - Outbreak associated  Pending  Travel  \\\n",
       "Age Group                                                         \n",
       "19 and younger                            9.56     0.70    1.89   \n",
       "20 to 29 Years                           15.51     0.79    4.28   \n",
       "30 to 39 Years                           23.78     0.81    5.01   \n",
       "40 to 49 Years                           28.42     0.74    3.82   \n",
       "50 to 59 Years                           30.35     0.69    4.03   \n",
       "60 to 69 Years                           34.57     0.84    6.46   \n",
       "70 to 79 Years                           54.38     0.37    4.85   \n",
       "80 to 89 Years                           82.52     0.13    1.23   \n",
       "90 and older                             92.88     0.00    0.27   \n",
       "\n",
       "Source of Infection  Unknown/Missing  \n",
       "Age Group                             \n",
       "19 and younger                  1.29  \n",
       "20 to 29 Years                  3.70  \n",
       "30 to 39 Years                  3.02  \n",
       "40 to 49 Years                  2.67  \n",
       "50 to 59 Years                  2.85  \n",
       "60 to 69 Years                  3.35  \n",
       "70 to 79 Years                  2.15  \n",
       "80 to 89 Years                  1.17  \n",
       "90 and older                    0.99  "
      ]
     },
     "execution_count": 22,
     "metadata": {},
     "output_type": "execute_result"
    }
   ],
   "source": [
    "pd.crosstab(df['Age Group'], df['Source of Infection'], margins = False, normalize='index').round(4)*100"
   ]
  },
  {
   "cell_type": "markdown",
   "metadata": {},
   "source": [
    "Clearly under-19s are more likely to get it from Close contact, while over-80s it's associated with a general outbreak.\n",
    "\n",
    "Let's check Outcome by Age Group, first as percentages:"
   ]
  },
  {
   "cell_type": "code",
   "execution_count": 23,
   "metadata": {},
   "outputs": [
    {
     "data": {
      "text/html": [
       "<div>\n",
       "<style scoped>\n",
       "    .dataframe tbody tr th:only-of-type {\n",
       "        vertical-align: middle;\n",
       "    }\n",
       "\n",
       "    .dataframe tbody tr th {\n",
       "        vertical-align: top;\n",
       "    }\n",
       "\n",
       "    .dataframe thead th {\n",
       "        text-align: right;\n",
       "    }\n",
       "</style>\n",
       "<table border=\"1\" class=\"dataframe\">\n",
       "  <thead>\n",
       "    <tr style=\"text-align: right;\">\n",
       "      <th>Outcome</th>\n",
       "      <th>ACTIVE</th>\n",
       "      <th>FATAL</th>\n",
       "      <th>RESOLVED</th>\n",
       "    </tr>\n",
       "    <tr>\n",
       "      <th>Age Group</th>\n",
       "      <th></th>\n",
       "      <th></th>\n",
       "      <th></th>\n",
       "    </tr>\n",
       "  </thead>\n",
       "  <tbody>\n",
       "    <tr>\n",
       "      <th>19 and younger</th>\n",
       "      <td>3.88</td>\n",
       "      <td>0.10</td>\n",
       "      <td>96.02</td>\n",
       "    </tr>\n",
       "    <tr>\n",
       "      <th>20 to 29 Years</th>\n",
       "      <td>2.20</td>\n",
       "      <td>0.04</td>\n",
       "      <td>97.75</td>\n",
       "    </tr>\n",
       "    <tr>\n",
       "      <th>30 to 39 Years</th>\n",
       "      <td>1.94</td>\n",
       "      <td>0.05</td>\n",
       "      <td>98.01</td>\n",
       "    </tr>\n",
       "    <tr>\n",
       "      <th>40 to 49 Years</th>\n",
       "      <td>1.29</td>\n",
       "      <td>0.41</td>\n",
       "      <td>98.30</td>\n",
       "    </tr>\n",
       "    <tr>\n",
       "      <th>50 to 59 Years</th>\n",
       "      <td>1.75</td>\n",
       "      <td>1.38</td>\n",
       "      <td>96.86</td>\n",
       "    </tr>\n",
       "    <tr>\n",
       "      <th>60 to 69 Years</th>\n",
       "      <td>2.03</td>\n",
       "      <td>6.46</td>\n",
       "      <td>91.51</td>\n",
       "    </tr>\n",
       "    <tr>\n",
       "      <th>70 to 79 Years</th>\n",
       "      <td>1.40</td>\n",
       "      <td>20.15</td>\n",
       "      <td>78.45</td>\n",
       "    </tr>\n",
       "    <tr>\n",
       "      <th>80 to 89 Years</th>\n",
       "      <td>1.23</td>\n",
       "      <td>26.67</td>\n",
       "      <td>72.10</td>\n",
       "    </tr>\n",
       "    <tr>\n",
       "      <th>90 and older</th>\n",
       "      <td>0.81</td>\n",
       "      <td>34.36</td>\n",
       "      <td>64.83</td>\n",
       "    </tr>\n",
       "  </tbody>\n",
       "</table>\n",
       "</div>"
      ],
      "text/plain": [
       "Outcome         ACTIVE  FATAL  RESOLVED\n",
       "Age Group                              \n",
       "19 and younger    3.88   0.10     96.02\n",
       "20 to 29 Years    2.20   0.04     97.75\n",
       "30 to 39 Years    1.94   0.05     98.01\n",
       "40 to 49 Years    1.29   0.41     98.30\n",
       "50 to 59 Years    1.75   1.38     96.86\n",
       "60 to 69 Years    2.03   6.46     91.51\n",
       "70 to 79 Years    1.40  20.15     78.45\n",
       "80 to 89 Years    1.23  26.67     72.10\n",
       "90 and older      0.81  34.36     64.83"
      ]
     },
     "execution_count": 23,
     "metadata": {},
     "output_type": "execute_result"
    }
   ],
   "source": [
    "pd.crosstab(df['Age Group'], df['Outcome'], margins = False, normalize='index').round(4)*100"
   ]
  },
  {
   "cell_type": "markdown",
   "metadata": {},
   "source": [
    "...now as raw numbers:"
   ]
  },
  {
   "cell_type": "code",
   "execution_count": 24,
   "metadata": {},
   "outputs": [
    {
     "data": {
      "text/html": [
       "<div>\n",
       "<style scoped>\n",
       "    .dataframe tbody tr th:only-of-type {\n",
       "        vertical-align: middle;\n",
       "    }\n",
       "\n",
       "    .dataframe tbody tr th {\n",
       "        vertical-align: top;\n",
       "    }\n",
       "\n",
       "    .dataframe thead th {\n",
       "        text-align: right;\n",
       "    }\n",
       "</style>\n",
       "<table border=\"1\" class=\"dataframe\">\n",
       "  <thead>\n",
       "    <tr style=\"text-align: right;\">\n",
       "      <th>Outcome</th>\n",
       "      <th>ACTIVE</th>\n",
       "      <th>FATAL</th>\n",
       "      <th>RESOLVED</th>\n",
       "    </tr>\n",
       "    <tr>\n",
       "      <th>Age Group</th>\n",
       "      <th></th>\n",
       "      <th></th>\n",
       "      <th></th>\n",
       "    </tr>\n",
       "  </thead>\n",
       "  <tbody>\n",
       "    <tr>\n",
       "      <th>19 and younger</th>\n",
       "      <td>39</td>\n",
       "      <td>1</td>\n",
       "      <td>964</td>\n",
       "    </tr>\n",
       "    <tr>\n",
       "      <th>20 to 29 Years</th>\n",
       "      <td>50</td>\n",
       "      <td>1</td>\n",
       "      <td>2218</td>\n",
       "    </tr>\n",
       "    <tr>\n",
       "      <th>30 to 39 Years</th>\n",
       "      <td>43</td>\n",
       "      <td>1</td>\n",
       "      <td>2172</td>\n",
       "    </tr>\n",
       "    <tr>\n",
       "      <th>40 to 49 Years</th>\n",
       "      <td>28</td>\n",
       "      <td>9</td>\n",
       "      <td>2134</td>\n",
       "    </tr>\n",
       "    <tr>\n",
       "      <th>50 to 59 Years</th>\n",
       "      <td>43</td>\n",
       "      <td>34</td>\n",
       "      <td>2378</td>\n",
       "    </tr>\n",
       "    <tr>\n",
       "      <th>60 to 69 Years</th>\n",
       "      <td>34</td>\n",
       "      <td>108</td>\n",
       "      <td>1530</td>\n",
       "    </tr>\n",
       "    <tr>\n",
       "      <th>70 to 79 Years</th>\n",
       "      <td>15</td>\n",
       "      <td>216</td>\n",
       "      <td>841</td>\n",
       "    </tr>\n",
       "    <tr>\n",
       "      <th>80 to 89 Years</th>\n",
       "      <td>19</td>\n",
       "      <td>412</td>\n",
       "      <td>1114</td>\n",
       "    </tr>\n",
       "    <tr>\n",
       "      <th>90 and older</th>\n",
       "      <td>9</td>\n",
       "      <td>381</td>\n",
       "      <td>719</td>\n",
       "    </tr>\n",
       "  </tbody>\n",
       "</table>\n",
       "</div>"
      ],
      "text/plain": [
       "Outcome         ACTIVE  FATAL  RESOLVED\n",
       "Age Group                              \n",
       "19 and younger      39      1       964\n",
       "20 to 29 Years      50      1      2218\n",
       "30 to 39 Years      43      1      2172\n",
       "40 to 49 Years      28      9      2134\n",
       "50 to 59 Years      43     34      2378\n",
       "60 to 69 Years      34    108      1530\n",
       "70 to 79 Years      15    216       841\n",
       "80 to 89 Years      19    412      1114\n",
       "90 and older         9    381       719"
      ]
     },
     "execution_count": 24,
     "metadata": {},
     "output_type": "execute_result"
    }
   ],
   "source": [
    "pd.crosstab(df['Age Group'], df['Outcome'], margins = False)"
   ]
  },
  {
   "cell_type": "markdown",
   "metadata": {},
   "source": [
    "This definitely supports the belief that the older you are the more dangerous COVID-19 is."
   ]
  }
 ],
 "metadata": {
  "kernelspec": {
   "display_name": "Python 3",
   "language": "python",
   "name": "python3"
  },
  "language_info": {
   "codemirror_mode": {
    "name": "ipython",
    "version": 3
   },
   "file_extension": ".py",
   "mimetype": "text/x-python",
   "name": "python",
   "nbconvert_exporter": "python",
   "pygments_lexer": "ipython3",
   "version": "3.7.6"
  }
 },
 "nbformat": 4,
 "nbformat_minor": 4
}
